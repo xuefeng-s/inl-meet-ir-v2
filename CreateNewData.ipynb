{
  "nbformat": 4,
  "nbformat_minor": 0,
  "metadata": {
    "colab": {
      "name": "CreateNewData.ipynb",
      "provenance": [],
      "collapsed_sections": []
    },
    "kernelspec": {
      "name": "python3",
      "display_name": "Python 3"
    },
    "language_info": {
      "name": "python"
    }
  },
  "cells": [
    {
      "cell_type": "code",
      "metadata": {
        "colab": {
          "base_uri": "https://localhost:8080/"
        },
        "id": "xEb6JrHoRAhO",
        "outputId": "43f71119-7571-49cb-fc92-e795a9eb5615"
      },
      "source": [
        "# Importiert pandas unter dem Synonym pd\n",
        "import pandas as pd\n",
        "    \n",
        "# Der Pfad für die Dateien wird hier als Variable erstellet, damit man ihn nur einmal aufschreiben muss und auch bei Änderungen nur eine Stelle hat die geändert werden muss.\n",
        "file_path = '/content/gdrive/MyDrive/Praxisprojekt/'\n",
        "\n",
        "# Das Mounten von Google-Drive passiert hier nochmal damit man diese Zelle für sich alleine ausführen kann\n",
        "from google.colab import drive\n",
        "drive.mount('/content/gdrive')\n",
        "\n",
        "# liest die Datei ein. Dabei wird nur der Inhalt vom Blatt 'sentences' eingelesen\n",
        "old_data = pd.read_excel(file_path + 'Trainingdata.xlsx', sheet_name='sentences')\n",
        "\n",
        "df_2 = pd.read_excel(file_path + 'Trainingdata.xlsx', sheet_name='sentences', usecols= [\"SUBJlang\", \"SUBJopin\"])\n",
        "df_lists = df_2.values.tolist()\n",
        "u1_list = []\n",
        "u2_list = []\n",
        "for s_list in df_lists:\n",
        "    input_a = s_list[0]\n",
        "    input_b = s_list[1]\n",
        "\n",
        "#Merge values of 1 and 3 in SUBJlang as 1, otherwise as 0.\n",
        "    if input_a >= 5:\n",
        "      u1 = 0\n",
        "    else:\n",
        "      u1 = 1\n",
        "#Merge values of 5 and 3 in SUBJopin as 1, otherwise as 0.\n",
        "    if input_b <= 1:\n",
        "      u2 = 0\n",
        "    else:\n",
        "      u2 = 1 \n",
        "\n",
        "    u1_list.append(u1)\n",
        "    u2_list.append(u2)\n",
        "\n",
        "#Create the two new columns with only values of 0 or 1.\n",
        "col_name=old_data.columns.tolist()\n",
        "col_name.append('SUBJlang01')\n",
        "col_name.append('SUBJopin01')\n",
        "\n",
        "old_data=old_data.reindex(columns=col_name) \n",
        "\n",
        "old_data['SUBJlang01']=u1_list\n",
        "old_data['SUBJopin01']=u2_list\n",
        "\n",
        "old_data.to_excel(file_path + 'TrainingdataNew.xlsx', index=False, sheet_name='sentences')\n",
        "#df2.to_excel(file_path + 'TrainingdataTest.xlsx', index=False, sheet_name='sentences')"
      ],
      "execution_count": 6,
      "outputs": [
        {
          "output_type": "stream",
          "text": [
            "Drive already mounted at /content/gdrive; to attempt to forcibly remount, call drive.mount(\"/content/gdrive\", force_remount=True).\n"
          ],
          "name": "stdout"
        }
      ]
    }
  ]
}