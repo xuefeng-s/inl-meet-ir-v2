{
  "nbformat": 4,
  "nbformat_minor": 0,
  "metadata": {
    "colab": {
      "name": "CreateNewData_all-data.ipynb",
      "provenance": [],
      "collapsed_sections": []
    },
    "kernelspec": {
      "name": "python3",
      "display_name": "Python 3"
    },
    "language_info": {
      "name": "python"
    }
  },
  "cells": [
    {
      "cell_type": "code",
      "metadata": {
        "colab": {
          "base_uri": "https://localhost:8080/"
        },
        "id": "9mhFfyw_2JAV",
        "outputId": "043ae165-9203-4de9-d58a-1b3891abe6f2"
      },
      "source": [
        "## Create the column \"SUBJlang01\"  with only values of 0 or 1.\n",
        "# Importiert pandas unter dem Synonym pd\n",
        "import pandas as pd\n",
        "    \n",
        "# Der Pfad für die Dateien wird hier als Variable erstellet, damit man ihn nur einmal aufschreiben muss und auch bei Änderungen nur eine Stelle hat die geändert werden muss.\n",
        "file_path = '/content/gdrive/MyDrive/Praxisprojekt/'\n",
        "\n",
        "# Das Mounten von Google-Drive passiert hier nochmal damit man diese Zelle für sich alleine ausführen kann\n",
        "from google.colab import drive\n",
        "drive.mount('/content/gdrive')\n",
        "\n",
        "# liest die Datei ein. \n",
        "old_data = pd.read_excel(file_path + 'all-data.xlsx', header=None)\n",
        "print(old_data)\n",
        "\n",
        "#df_2 = pd.read_excel(file_path + 'Trainingdata.xlsx', sheet_name='sentences', usecols= [\"SUBJlang\", \"SUBJopin\"])\n",
        "df_lists = old_data.values.tolist()\n",
        "u1_list = []\n",
        "u2_list = []\n",
        "u3_list = []\n",
        "for s_list in df_lists:\n",
        "    input_a = s_list[0]\n",
        "    input_b = s_list[1]\n",
        "\n",
        "#Merge values of 1 and 3 in SUBJlang as 1, otherwise as 0.\n",
        "    if input_a == 'neutral':\n",
        "      u3 = 0\n",
        "    else:\n",
        "      u3 = 1\n",
        "\n",
        "    u1_list.append(input_b)\n",
        "    u2_list.append(input_a)\n",
        "    u3_list.append(u3)\n",
        "\n",
        "#Create the new column with only values of 0 or 1.\n",
        "col_name = []\n",
        "col_name.append('Sentence')\n",
        "col_name.append('SUBJlang')\n",
        "col_name.append('SUBJlang01')\n",
        "\n",
        "new_data=old_data.reindex(columns=col_name) \n",
        "\n",
        "new_data['Sentence']= u1_list\n",
        "new_data['SUBJlang']= u2_list\n",
        "new_data['SUBJlang01']=u3_list\n",
        "\n",
        "new_data.to_excel(file_path + 'all-dataNew.xlsx', index=False, sheet_name='sentences')\n",
        "#df2.to_excel(file_path + 'all-dataNew.xlsx', index=False, sheet_name='sentences')"
      ],
      "execution_count": 6,
      "outputs": [
        {
          "output_type": "stream",
          "text": [
            "Drive already mounted at /content/gdrive; to attempt to forcibly remount, call drive.mount(\"/content/gdrive\", force_remount=True).\n",
            "             0                                                  1\n",
            "0      neutral  According to Gran , the company has no plans t...\n",
            "1      neutral  Technopolis plans to develop in stages an area...\n",
            "2     negative  The international electronic industry company ...\n",
            "3     positive  With the new production plant the company woul...\n",
            "4     positive  According to the company 's updated strategy f...\n",
            "...        ...                                                ...\n",
            "4841  negative  LONDON MarketWatch -- Share prices ended lower...\n",
            "4842   neutral  Rinkuskiai 's beer sales fell by 6.5 per cent ...\n",
            "4843  negative  Operating profit fell to EUR 35.4 mn from EUR ...\n",
            "4844  negative  Net sales of the Paper segment decreased to EU...\n",
            "4845  negative  Sales in Finland decreased by 10.5 % in Januar...\n",
            "\n",
            "[4846 rows x 2 columns]\n"
          ],
          "name": "stdout"
        }
      ]
    }
  ]
}